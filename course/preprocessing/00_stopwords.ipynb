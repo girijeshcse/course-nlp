{
  "nbformat": 4,
  "nbformat_minor": 0,
  "metadata": {
    "kernelspec": {
      "display_name": "ML",
      "language": "python",
      "name": "ml"
    },
    "language_info": {
      "codemirror_mode": {
        "name": "ipython",
        "version": 3
      },
      "file_extension": ".py",
      "mimetype": "text/x-python",
      "name": "python",
      "nbconvert_exporter": "python",
      "pygments_lexer": "ipython3",
      "version": "3.8.5"
    },
    "colab": {
      "name": "00_stopwords.ipynb",
      "provenance": [],
      "include_colab_link": true
    }
  },
  "cells": [
    {
      "cell_type": "markdown",
      "metadata": {
        "id": "view-in-github",
        "colab_type": "text"
      },
      "source": [
        "<a href=\"https://colab.research.google.com/github/girijeshcse/course-nlp/blob/master/course/preprocessing/00_stopwords.ipynb\" target=\"_parent\"><img src=\"https://colab.research.google.com/assets/colab-badge.svg\" alt=\"Open In Colab\"/></a>"
      ]
    },
    {
      "cell_type": "markdown",
      "metadata": {
        "id": "KDFE7dPGpUB4"
      },
      "source": [
        "# Stopwords\n",
        "\n",
        "```\n",
        "\n",
        "```\n",
        "\n",
        "TK add explanation of stopwords, + examples + some sample code + code we would actually use (eg NLTK)\n",
        "\n",
        "We will be using [this tweet](https://twitter.com/ivan_bezdomny/status/1367160747537682438) (don't worry, we will get to train some models):"
      ]
    },
    {
      "cell_type": "code",
      "metadata": {
        "id": "w4QwG5wepUB8"
      },
      "source": [
        "tweet = \"\"\"I’m amazed how often in practice, not only does a @huggingface NLP model solve your problem, but one of their public finetuned checkpoints, is good enough for the job.\n",
        "\n",
        "Both impressed, and a little disappointed how rarely I get to actually train a model that matters :(\"\"\""
      ],
      "execution_count": 1,
      "outputs": []
    },
    {
      "cell_type": "markdown",
      "metadata": {
        "id": "dnu8feY7pUB9"
      },
      "source": [
        "We will be using the **NLTK** library for removing stopwords. NLTK comes with several stopword corpora, we will be using the English corpus. This corpus contains a huge number of English stopwords like *a*, *the*, *be*, *for*, *do*, and so on."
      ]
    },
    {
      "cell_type": "code",
      "metadata": {
        "id": "MisGBvilpUB-",
        "outputId": "e6013a1f-5e15-4021-e1fb-b4d040b5fd51",
        "colab": {
          "base_uri": "https://localhost:8080/"
        }
      },
      "source": [
        "from nltk.corpus import stopwords\n",
        "import nltk\n",
        "nltk.download('stopwords')\n",
        "stop_words = stopwords.words('english')\n",
        "\n",
        "stop_words[:5]"
      ],
      "execution_count": 4,
      "outputs": [
        {
          "output_type": "stream",
          "name": "stdout",
          "text": [
            "[nltk_data] Downloading package stopwords to /root/nltk_data...\n",
            "[nltk_data]   Unzipping corpora/stopwords.zip.\n"
          ]
        },
        {
          "output_type": "execute_result",
          "data": {
            "text/plain": [
              "['i', 'me', 'my', 'myself', 'we']"
            ]
          },
          "metadata": {},
          "execution_count": 4
        }
      ]
    },
    {
      "cell_type": "markdown",
      "metadata": {
        "id": "4eQPNca9pUB_"
      },
      "source": [
        "Now we have a list of stopwords. When we process our text data we will iterate through each word, if it is present in `stop_words` it will be removed. To optimize the speed of the stopword lookup we can convert `stop_words` to a `set` object."
      ]
    },
    {
      "cell_type": "code",
      "metadata": {
        "id": "EcZ9Ih72pUB_"
      },
      "source": [
        "stop_words = set(stop_words)"
      ],
      "execution_count": 5,
      "outputs": []
    },
    {
      "cell_type": "markdown",
      "metadata": {
        "id": "70M4253RpUCA"
      },
      "source": [
        "First we need to lowercase our text (because all of our stopwords are lowercased). Then we use split our input text into a list of tokens (each token is a word seperated by a space)."
      ]
    },
    {
      "cell_type": "code",
      "metadata": {
        "id": "DfTZ5CPEpUCB",
        "outputId": "c7c6a038-a813-47f1-cce3-e203ae3536ac",
        "colab": {
          "base_uri": "https://localhost:8080/"
        }
      },
      "source": [
        "tweet = tweet.lower().split()\n",
        "\n",
        "tweet"
      ],
      "execution_count": 6,
      "outputs": [
        {
          "output_type": "execute_result",
          "data": {
            "text/plain": [
              "['i’m',\n",
              " 'amazed',\n",
              " 'how',\n",
              " 'often',\n",
              " 'in',\n",
              " 'practice,',\n",
              " 'not',\n",
              " 'only',\n",
              " 'does',\n",
              " 'a',\n",
              " '@huggingface',\n",
              " 'nlp',\n",
              " 'model',\n",
              " 'solve',\n",
              " 'your',\n",
              " 'problem,',\n",
              " 'but',\n",
              " 'one',\n",
              " 'of',\n",
              " 'their',\n",
              " 'public',\n",
              " 'finetuned',\n",
              " 'checkpoints,',\n",
              " 'is',\n",
              " 'good',\n",
              " 'enough',\n",
              " 'for',\n",
              " 'the',\n",
              " 'job.',\n",
              " 'both',\n",
              " 'impressed,',\n",
              " 'and',\n",
              " 'a',\n",
              " 'little',\n",
              " 'disappointed',\n",
              " 'how',\n",
              " 'rarely',\n",
              " 'i',\n",
              " 'get',\n",
              " 'to',\n",
              " 'actually',\n",
              " 'train',\n",
              " 'a',\n",
              " 'model',\n",
              " 'that',\n",
              " 'matters',\n",
              " ':(']"
            ]
          },
          "metadata": {},
          "execution_count": 6
        }
      ]
    },
    {
      "cell_type": "markdown",
      "metadata": {
        "id": "__xedzsRpUCB"
      },
      "source": [
        "And now we can iterate through the list, we check if each word exists in `stop_words` - if it does we discard it."
      ]
    },
    {
      "cell_type": "code",
      "metadata": {
        "id": "9LJWYIA2pUCC",
        "outputId": "116fddd8-99ec-4ba8-9bf2-99d26a89b827",
        "colab": {
          "base_uri": "https://localhost:8080/"
        }
      },
      "source": [
        "tweet_no_stopwords = [word for word in tweet if word not in stop_words]\n",
        "\n",
        "print(\"With stopwords:\", ' '.join(tweet))\n",
        "print(\"Without:\", ' '.join(tweet_no_stopwords))"
      ],
      "execution_count": 7,
      "outputs": [
        {
          "output_type": "stream",
          "name": "stdout",
          "text": [
            "With stopwords: i’m amazed how often in practice, not only does a @huggingface nlp model solve your problem, but one of their public finetuned checkpoints, is good enough for the job. both impressed, and a little disappointed how rarely i get to actually train a model that matters :(\n",
            "Without: i’m amazed often practice, @huggingface nlp model solve problem, one public finetuned checkpoints, good enough job. impressed, little disappointed rarely get actually train model matters :(\n"
          ]
        }
      ]
    },
    {
      "cell_type": "markdown",
      "metadata": {
        "id": "WlT35LgWpUCD"
      },
      "source": [
        "It's that easy! We'll move onto more preprocessing methods in the following sections."
      ]
    }
  ]
}