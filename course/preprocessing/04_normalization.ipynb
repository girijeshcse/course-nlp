{
  "nbformat": 4,
  "nbformat_minor": 0,
  "metadata": {
    "kernelspec": {
      "display_name": "ML",
      "language": "python",
      "name": "ml"
    },
    "language_info": {
      "codemirror_mode": {
        "name": "ipython",
        "version": 3
      },
      "file_extension": ".py",
      "mimetype": "text/x-python",
      "name": "python",
      "nbconvert_exporter": "python",
      "pygments_lexer": "ipython3",
      "version": "3.8.5"
    },
    "colab": {
      "name": "04_normalization.ipynb",
      "provenance": [],
      "include_colab_link": true
    }
  },
  "cells": [
    {
      "cell_type": "markdown",
      "metadata": {
        "id": "view-in-github",
        "colab_type": "text"
      },
      "source": [
        "<a href=\"https://colab.research.google.com/github/girijeshcse/course-nlp/blob/master/course/preprocessing/04_normalization.ipynb\" target=\"_parent\"><img src=\"https://colab.research.google.com/assets/colab-badge.svg\" alt=\"Open In Colab\"/></a>"
      ]
    },
    {
      "cell_type": "markdown",
      "metadata": {
        "id": "BmmiI6ZgpXJX"
      },
      "source": [
        "# Normalization\n",
        "\n",
        "Unicode normalization is used to *normalize* different but similiar characters. For example the following unicode characters (and character combinations) are equivalent:\n",
        "\n",
        "**Canonical Equivalence**\n",
        "\n",
        "| | | Equivalence Reason |\n",
        "| --- | --- | --- |\n",
        "| Ç | C◌̧ | Combined character sequences |\n",
        "| 가 | ᄀ ᅡ | Conjoined Korean characters |\n",
        "\n",
        "**Compatibility equivalence**\n",
        "\n",
        "| | | Equivalence Reason |\n",
        "| --- | --- | --- |\n",
        "| ℌ | H | Font variant |\n",
        "| \\[NBSP\\] | \\[SPACE\\] | Both are linebreak sequences |\n",
        "| ① | 1 | Circled variant |\n",
        "| x² | x2 | Superscript |\n",
        "| xⱼ | xj | Subscript |\n",
        "| ½ | 1/2 | Fractions |\n",
        "\n",
        "We have mentioned two different types of equivalence here, canonical and compatibility equivalence.\n",
        "\n",
        "**Canonical equivalence** means both forms are fundamentally the same and when rendered are indistinguishable. For example we can take the unicode for `'Ç' \\u00C7` or the unicode for `'C' \\u0043` and `'̧' \\u0327`, when the latter two characters are rendered together they look the same as the first character:"
      ]
    },
    {
      "cell_type": "code",
      "metadata": {
        "id": "HM8bPHKipXJb",
        "outputId": "11a12aae-8d92-425b-dbf8-c4a3175dff27",
        "colab": {
          "base_uri": "https://localhost:8080/"
        }
      },
      "source": [
        "print(\"\\u00C7\", \"\\u0043\"+\"\\u0327\")"
      ],
      "execution_count": 1,
      "outputs": [
        {
          "output_type": "stream",
          "name": "stdout",
          "text": [
            "Ç Ç\n"
          ]
        }
      ]
    },
    {
      "cell_type": "markdown",
      "metadata": {
        "id": "bQBXTRO5pXJd"
      },
      "source": [
        "However, if we print these characters seperately, we can see very clearly that they are not the same:"
      ]
    },
    {
      "cell_type": "code",
      "metadata": {
        "id": "OUCAHTzipXJe",
        "outputId": "766735aa-1f16-4faf-d339-fe7ad0648d84",
        "colab": {
          "base_uri": "https://localhost:8080/"
        }
      },
      "source": [
        "print(\"\\u00C7\", \"\\u0043\", \"\\u0327\")"
      ],
      "execution_count": 2,
      "outputs": [
        {
          "output_type": "stream",
          "name": "stdout",
          "text": [
            "Ç C ̧\n"
          ]
        }
      ]
    },
    {
      "cell_type": "markdown",
      "metadata": {
        "id": "dkQoxrgbpXJe"
      },
      "source": [
        "These are examples of canonical equivalence, but we also have compatibility equivalence.\n",
        "\n",
        "**Compatibility equivalence** refers to the formatting differences between characters, which includes (but is not limited to):\n",
        "\n",
        "* font variants\n",
        "* cursive forms\n",
        "* circled characters\n",
        "* width variation\n",
        "* size changes\n",
        "* rotation\n",
        "* superscript and subscript\n",
        "* fractions\n",
        "\n",
        "In this case we can see a difference between the rendered characters, for example between `ℌ` and `H`, or `½` and `1 ⁄ 2`.\n",
        "\n",
        "For many of these examples which are either canonical equivalents (Ç ↔ C ̧ ) or compatibility equivalents (½ → 1 ⁄ 2), if we compare if these different forms are equal, we will find that they are not:"
      ]
    },
    {
      "cell_type": "code",
      "metadata": {
        "id": "87Id8SV-pXJf",
        "outputId": "0896a023-0312-49db-9d60-ad99bdcc4c9a",
        "colab": {
          "base_uri": "https://localhost:8080/"
        }
      },
      "source": [
        "\"Ç\" == \"Ç\""
      ],
      "execution_count": 3,
      "outputs": [
        {
          "output_type": "execute_result",
          "data": {
            "text/plain": [
              "False"
            ]
          },
          "metadata": {},
          "execution_count": 3
        }
      ]
    },
    {
      "cell_type": "code",
      "metadata": {
        "id": "4YbBtxpHpXJg",
        "outputId": "e57d4198-c1a7-4fb1-abda-7664eb85a35a",
        "colab": {
          "base_uri": "https://localhost:8080/"
        }
      },
      "source": [
        "\"ℌ\" == \"H\""
      ],
      "execution_count": 4,
      "outputs": [
        {
          "output_type": "execute_result",
          "data": {
            "text/plain": [
              "False"
            ]
          },
          "metadata": {},
          "execution_count": 4
        }
      ]
    },
    {
      "cell_type": "code",
      "metadata": {
        "id": "qbjCZc_JpXJg",
        "outputId": "ce599232-8cfe-403f-a08f-1d56bbaad0f3",
        "colab": {
          "base_uri": "https://localhost:8080/"
        }
      },
      "source": [
        "\"½\" == \"1⁄2\"  # note that 1⁄2 are the characters 1 ⁄ 2 placed together (they are automatically formatted)"
      ],
      "execution_count": 5,
      "outputs": [
        {
          "output_type": "execute_result",
          "data": {
            "text/plain": [
              "False"
            ]
          },
          "metadata": {},
          "execution_count": 5
        }
      ]
    },
    {
      "cell_type": "markdown",
      "metadata": {
        "id": "UoFxH-PDpXJh"
      },
      "source": [
        "So it is in these cases that we use unicode normalization to *normalize* our characters into matching pairs. As there are different forms of equivalence, there are also different forms of normalization. These are all called **N**ormal **F**orm, and there are four different methods:\n",
        "\n",
        "| Name | Abbreviation | Description | Example |\n",
        "| --- | --- | --- | --- |\n",
        "| Form D | NFD | *Canonical* decomposition | `Ç` → `C ̧` |\n",
        "| Form C | NFC | *Canoncial* decomposition followed by *canonical* composition | `Ç` → `C ̧` → `Ç` |\n",
        "| Form KD | NFKD | *Compatibility* decomposition | `ℌ ̧` → `H ̧` |\n",
        "| Form KC | NFKC | *Compatibility* decomposition followed by *canonical* composition | `ℌ ̧` → `H ̧` → `Ḩ` |\n",
        "\n",
        "Let's take a look at each of these forms in action. Our C with cedilla character Ç can be represented in two ways, as a single character called *Latin capital C with cedilla* (*\\u00C7*), or as two characters called *Latin capital C* (*\\u0043*) and *combining cedilla* (*\\u0327*):"
      ]
    },
    {
      "cell_type": "code",
      "metadata": {
        "id": "zDPeFKY-pXJi",
        "outputId": "5598128e-fbb7-42e8-e75c-44ca11c4b161",
        "colab": {
          "base_uri": "https://localhost:8080/",
          "height": 35
        }
      },
      "source": [
        "c_with_cedilla = \"\\u00C7\"  # Latin capital C with cedilla (single character)\n",
        "c_with_cedilla"
      ],
      "execution_count": 6,
      "outputs": [
        {
          "output_type": "execute_result",
          "data": {
            "application/vnd.google.colaboratory.intrinsic+json": {
              "type": "string"
            },
            "text/plain": [
              "'Ç'"
            ]
          },
          "metadata": {},
          "execution_count": 6
        }
      ]
    },
    {
      "cell_type": "code",
      "metadata": {
        "id": "yKFY9fZ3pXJj",
        "outputId": "76d6197c-7742-4d48-97c8-924f76e37ffe",
        "colab": {
          "base_uri": "https://localhost:8080/",
          "height": 35
        }
      },
      "source": [
        "c_plus_cedilla = \"\\u0043\\u0327\"  # \\u0043 = Latin capital C, \\u0327 = 'combining cedilla' (two characters)\n",
        "c_plus_cedilla"
      ],
      "execution_count": 7,
      "outputs": [
        {
          "output_type": "execute_result",
          "data": {
            "application/vnd.google.colaboratory.intrinsic+json": {
              "type": "string"
            },
            "text/plain": [
              "'Ç'"
            ]
          },
          "metadata": {},
          "execution_count": 7
        }
      ]
    },
    {
      "cell_type": "markdown",
      "metadata": {
        "id": "Hp_r4XjRpXJj"
      },
      "source": [
        "And we will find that these two version do not match when compared:"
      ]
    },
    {
      "cell_type": "code",
      "metadata": {
        "id": "-Km1g-WNpXJk",
        "outputId": "8ec9d6a1-3922-4633-f868-d61d2f1f6842",
        "colab": {
          "base_uri": "https://localhost:8080/"
        }
      },
      "source": [
        "c_with_cedilla == c_plus_cedilla"
      ],
      "execution_count": 8,
      "outputs": [
        {
          "output_type": "execute_result",
          "data": {
            "text/plain": [
              "False"
            ]
          },
          "metadata": {},
          "execution_count": 8
        }
      ]
    },
    {
      "cell_type": "markdown",
      "metadata": {
        "id": "gE45JRNCpXJk"
      },
      "source": [
        "If we perform **NFD** on our C with cedilla character `\\u00C7`, we **decompose** the character into it's smaller components, which are the *Latin capital C* character, and *combining cedilla* character `\\u0043` + `\\u0327`. This means that if we compare an **NFD** normalized C with cedilla character to both the C character and the cedilla character, we will return true:"
      ]
    },
    {
      "cell_type": "code",
      "metadata": {
        "id": "2u1v98hL3Lx3"
      },
      "source": [
        "import unicodedata"
      ],
      "execution_count": 10,
      "outputs": []
    },
    {
      "cell_type": "code",
      "metadata": {
        "id": "XBlUMwW4pXJk",
        "outputId": "d3291bcd-3890-4f48-9e31-99e87033b74f",
        "colab": {
          "base_uri": "https://localhost:8080/"
        }
      },
      "source": [
        "unicodedata.normalize('NFD', c_with_cedilla) == c_plus_cedilla"
      ],
      "execution_count": 11,
      "outputs": [
        {
          "output_type": "execute_result",
          "data": {
            "text/plain": [
              "True"
            ]
          },
          "metadata": {},
          "execution_count": 11
        }
      ]
    },
    {
      "cell_type": "markdown",
      "metadata": {
        "id": "jQ-bblZ_pXJl"
      },
      "source": [
        "However, if we perform **NFC** on our C with cedilla character `\\u00C7`, we **decompose** the character into the smaller components `\\u0043` + `\\u0327`, and then **compose** them back to `\\u00C7`, and so they will not match:"
      ]
    },
    {
      "cell_type": "code",
      "metadata": {
        "id": "OrVUeV8XpXJl",
        "outputId": "78864821-1374-4adf-a1ad-56065f919ea1",
        "colab": {
          "base_uri": "https://localhost:8080/"
        }
      },
      "source": [
        "unicodedata.normalize('NFC', c_with_cedilla) == c_plus_cedilla"
      ],
      "execution_count": 12,
      "outputs": [
        {
          "output_type": "execute_result",
          "data": {
            "text/plain": [
              "False"
            ]
          },
          "metadata": {},
          "execution_count": 12
        }
      ]
    },
    {
      "cell_type": "markdown",
      "metadata": {
        "id": "ZIARQikypXJl"
      },
      "source": [
        "But if we switch the **NFC** encoding to instead be performed on our two characters `\\u0043` + `\\u0327`, they will first be **decomposed** (which will do nothing as they are already decomposed), then compose them into the single `\\u00C7` character:"
      ]
    },
    {
      "cell_type": "code",
      "metadata": {
        "id": "cwfcXM1-pXJm",
        "outputId": "db44a483-d7c9-4eaf-ce88-2268589840b4",
        "colab": {
          "base_uri": "https://localhost:8080/"
        }
      },
      "source": [
        "c_with_cedilla == unicodedata.normalize('NFC', c_plus_cedilla)"
      ],
      "execution_count": 13,
      "outputs": [
        {
          "output_type": "execute_result",
          "data": {
            "text/plain": [
              "True"
            ]
          },
          "metadata": {},
          "execution_count": 13
        }
      ]
    },
    {
      "cell_type": "markdown",
      "metadata": {
        "id": "IfJxMkXlpXJm"
      },
      "source": [
        "The **NFK** encodings do not decompose characters into smaller components, they decompose characters into their *normal* versions. For example if we take the fancy format *ℌ* `\\u210B`, we cannot decompose this into multiple characters and so *NFD* or *NFC* encoding will do nothing. However, if we apply **NFKD**, we will find that our fancy *ℌ* `\\u210B` becomes a plain, boring *H* `\\u0048`:"
      ]
    },
    {
      "cell_type": "code",
      "metadata": {
        "id": "i8eVgIhEpXJn",
        "outputId": "60a34ade-06a4-4ce8-8494-a8466c141dad",
        "colab": {
          "base_uri": "https://localhost:8080/",
          "height": 35
        }
      },
      "source": [
        "unicodedata.normalize('NFKD', 'ℌ')"
      ],
      "execution_count": 14,
      "outputs": [
        {
          "output_type": "execute_result",
          "data": {
            "application/vnd.google.colaboratory.intrinsic+json": {
              "type": "string"
            },
            "text/plain": [
              "'H'"
            ]
          },
          "metadata": {},
          "execution_count": 14
        }
      ]
    },
    {
      "cell_type": "markdown",
      "metadata": {
        "id": "ppaySC7xpXJn"
      },
      "source": [
        "But, what if we merge our fancy ℌ `\\u210B` with a combining cedilla `\\u0328` character?"
      ]
    },
    {
      "cell_type": "code",
      "metadata": {
        "id": "SSys42eEpXJn",
        "outputId": "293f950c-38e9-4719-d346-39b1d55b787f",
        "colab": {
          "base_uri": "https://localhost:8080/",
          "height": 35
        }
      },
      "source": [
        "\"\\u210B\\u0327\""
      ],
      "execution_count": 15,
      "outputs": [
        {
          "output_type": "execute_result",
          "data": {
            "application/vnd.google.colaboratory.intrinsic+json": {
              "type": "string"
            },
            "text/plain": [
              "'ℋ̧'"
            ]
          },
          "metadata": {},
          "execution_count": 15
        }
      ]
    },
    {
      "cell_type": "markdown",
      "metadata": {
        "id": "sbkkTw3ipXJo"
      },
      "source": [
        "Applying our compatibility decomposition normalization (*NFKD*) gives us a capital H character, and a combining cedilla character as two seperate encodings:"
      ]
    },
    {
      "cell_type": "code",
      "metadata": {
        "id": "IEUHsHlWpXJo",
        "outputId": "1447d499-b505-4f2e-9cef-5d0e595e1eec",
        "colab": {
          "base_uri": "https://localhost:8080/"
        }
      },
      "source": [
        "unicodedata.normalize('NFKD', \"\\u210B\\u0327\").encode('utf-8')"
      ],
      "execution_count": 16,
      "outputs": [
        {
          "output_type": "execute_result",
          "data": {
            "text/plain": [
              "b'H\\xcc\\xa7'"
            ]
          },
          "metadata": {},
          "execution_count": 16
        }
      ]
    },
    {
      "cell_type": "markdown",
      "metadata": {
        "id": "DY-4PwEKpXJo"
      },
      "source": [
        "But if we apply **NFKC**, we first perform compatibility decomposition, into the two seperate characters, before merging them during *canonical* composition:"
      ]
    },
    {
      "cell_type": "code",
      "metadata": {
        "id": "tDPhWFkDpXJo",
        "outputId": "ad08d19d-d0bb-4820-e895-36996ffbf204",
        "colab": {
          "base_uri": "https://localhost:8080/"
        }
      },
      "source": [
        "unicodedata.normalize('NFKC', \"\\u210B\\u0327\").encode('utf-8')"
      ],
      "execution_count": 17,
      "outputs": [
        {
          "output_type": "execute_result",
          "data": {
            "text/plain": [
              "b'\\xe1\\xb8\\xa8'"
            ]
          },
          "metadata": {},
          "execution_count": 17
        }
      ]
    },
    {
      "cell_type": "markdown",
      "metadata": {
        "id": "X_EMUrempXJp"
      },
      "source": [
        "Because the only difference between these two methods is a canonical composition, we see no difference between the two character sets when they are rendered:"
      ]
    },
    {
      "cell_type": "code",
      "metadata": {
        "id": "ViKjSJRepXJp",
        "outputId": "52ed2af2-94aa-4328-9c32-eab6832bfba4"
      },
      "source": [
        "unicodedata.normalize('NFKC', \"\\u210B\\u0327\"), unicodedata.normalize('NFKD', \"\\u210B\\u0327\"), "
      ],
      "execution_count": null,
      "outputs": [
        {
          "data": {
            "text/plain": [
              "('Ḩ', 'Ḩ')"
            ]
          },
          "execution_count": 159,
          "metadata": {},
          "output_type": "execute_result"
        }
      ]
    },
    {
      "cell_type": "markdown",
      "metadata": {
        "id": "tDBJurFvpXJp"
      },
      "source": [
        "Okay, that's it for unicode normalization. When it comes down to it, all you really need to remember is the table we saw above, all of this stuff is quite abstract and not the easiest thing to grasp or remember. So if it seems confusing, that's normal, you'll get by with our normal forms table.\n",
        "\n",
        "## Further Reading\n",
        "\n",
        "[UAX #15: Unicode Normalization Forms](https://unicode.org/reports/tr15/)\n",
        "\n",
        "[UTR #15: Unicode Normalization](https://unicode.org/reports/tr15/tr15-18.html)"
      ]
    }
  ]
}